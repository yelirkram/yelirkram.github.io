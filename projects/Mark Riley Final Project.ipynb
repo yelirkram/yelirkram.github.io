{
 "cells": [
  {
   "cell_type": "markdown",
   "metadata": {},
   "source": [
    "# Mark Riley\n",
    "## DS 710 Final Project\n",
    "### April 30, 2019"
   ]
  },
  {
   "cell_type": "code",
   "execution_count": 1,
   "metadata": {},
   "outputs": [],
   "source": [
    "import json\n",
    "import tweepy\n",
    "import pandas as pd\n",
    "import numpy as np\n",
    "%run twitter_credentials.py"
   ]
  },
  {
   "cell_type": "code",
   "execution_count": 2,
   "metadata": {},
   "outputs": [],
   "source": [
    "#Use tweepy.OAuthHandler to create an authentication using the given key and secret\n",
    "auth = tweepy.OAuthHandler(consumer_key=con_key, consumer_secret=con_secret)\n",
    "auth.set_access_token(acc_token, acc_secret)\n",
    "\n",
    "#Connect to the Twitter API using the authentication\n",
    "api = tweepy.API(auth)"
   ]
  },
  {
   "cell_type": "code",
   "execution_count": 16,
   "metadata": {},
   "outputs": [
    {
     "data": {
      "text/plain": [
       "1594"
      ]
     },
     "execution_count": 16,
     "metadata": {},
     "output_type": "execute_result"
    }
   ],
   "source": [
    "# Will attempt to get 1500 tweets with a goal to have at least\n",
    "# 100 tweets after removing duplicates and tweets by Tesla/Elon\n",
    "num_needed = 1500\n",
    "\n",
    "# I will search for the words rela autonomy and exclude retweets\n",
    "search_terms = ('tesla autonomy -filter:retweets')\n",
    "\n",
    "tweet_list = [] # Emplty list to hold the search results\n",
    "last_id = -1 # id of last tweet seen\n",
    "\n",
    "while len(tweet_list) < num_needed: # Loop until the number of tweets is met\n",
    "    try:\n",
    "        # Search tweets\n",
    "        new_tweets = api.search(q=search_terms, \n",
    "                                lang='en', \n",
    "                                count = 100, \n",
    "                                max_id = str(last_id - 1), \n",
    "                                tweet_mode='extended')\n",
    "    except tweepy.TweepError as e:\n",
    "        print(\"Error\", e)\n",
    "        break\n",
    "    else:\n",
    "        if not new_tweets:\n",
    "            print(\"Could not find any more tweets!\")\n",
    "            break\n",
    "        \n",
    "        # Found tweets, add them to the list\n",
    "        tweet_list.extend(new_tweets)\n",
    "        \n",
    "        # Reset the last_id\n",
    "        last_id = new_tweets[-1].id\n",
    "\n",
    "# Check to make sure we found enough tweets\n",
    "len(tweet_list)"
   ]
  },
  {
   "cell_type": "code",
   "execution_count": 18,
   "metadata": {},
   "outputs": [],
   "source": [
    "# Convert the tweets to a Pandas dataframe starting with the tweet text\n",
    "data = pd.DataFrame(data=[tweet.full_text for tweet in tweet_list], columns=['Tweets'])"
   ]
  },
  {
   "cell_type": "code",
   "execution_count": 19,
   "metadata": {},
   "outputs": [],
   "source": [
    "# Get the tweet ID, Date, and Screen Name for each tweet in the list and\n",
    "# append them as new columns to the data frame\n",
    "data['ID']   = np.array([tweet.id for tweet in tweet_list])\n",
    "data['Date'] = np.array([tweet.created_at for tweet in tweet_list])\n",
    "data['User'] = np.array([tweet.user.screen_name for tweet in tweet_list])"
   ]
  },
  {
   "cell_type": "code",
   "execution_count": 24,
   "metadata": {},
   "outputs": [],
   "source": [
    "import re # For using regular expressions\n",
    "from textblob import TextBlob # For determining the sentiment of the tweet using NLTK"
   ]
  },
  {
   "cell_type": "code",
   "execution_count": 36,
   "metadata": {},
   "outputs": [],
   "source": [
    "def clean_text(row):\n",
    "    # Remove links, special characters, etc. from the tweet using regex\n",
    "    return ' '.join(re.sub(\"(@[A-Za-z0-9]+)|([^0-9A-Za-z \\t])|(\\w+:\\/\\/\\S+)\", \" \", row['Tweets']).split())\n",
    "\n",
    "def get_tweet_sentiment(row):\n",
    "    # Create TextBlob object of passed tweet text \n",
    "    analysis = TextBlob(row['CleanTweets'])\n",
    "    \n",
    "    # Set sentiment based on analysis done by the TextBlob library\n",
    "    if analysis.sentiment.polarity > 0: \n",
    "        return 'positive'\n",
    "    elif analysis.sentiment.polarity == 0:\n",
    "        return 'neutral'\n",
    "    else:\n",
    "        return 'negative'"
   ]
  },
  {
   "cell_type": "code",
   "execution_count": 37,
   "metadata": {},
   "outputs": [],
   "source": [
    "# Clean the tweet text\n",
    "data['CleanTweets'] = data.apply(clean_text, axis = 1)\n",
    "\n",
    "# Set the sentiment for each tweet\n",
    "data['Sentiment'] = data.apply(get_tweet_sentiment, axis = 1)"
   ]
  },
  {
   "cell_type": "code",
   "execution_count": 45,
   "metadata": {},
   "outputs": [
    {
     "data": {
      "text/plain": [
       "1244"
      ]
     },
     "execution_count": 45,
     "metadata": {},
     "output_type": "execute_result"
    }
   ],
   "source": [
    "# Drop duplicates from the data frame based on the CleanTweets column\n",
    "data.drop_duplicates(subset='CleanTweets', keep='first', inplace=True)"
   ]
  },
  {
   "cell_type": "code",
   "execution_count": 46,
   "metadata": {},
   "outputs": [],
   "source": [
    "data.drop('Tweets', axis = 1, inplace = True)\n",
    "data.to_csv(\"tesla_autonomy_tweets.csv\", index=False)"
   ]
  },
  {
   "cell_type": "code",
   "execution_count": null,
   "metadata": {},
   "outputs": [],
   "source": []
  }
 ],
 "metadata": {
  "kernelspec": {
   "display_name": "Python 3",
   "language": "python",
   "name": "python3"
  },
  "language_info": {
   "codemirror_mode": {
    "name": "ipython",
    "version": 3
   },
   "file_extension": ".py",
   "mimetype": "text/x-python",
   "name": "python",
   "nbconvert_exporter": "python",
   "pygments_lexer": "ipython3",
   "version": "3.7.1"
  }
 },
 "nbformat": 4,
 "nbformat_minor": 2
}
